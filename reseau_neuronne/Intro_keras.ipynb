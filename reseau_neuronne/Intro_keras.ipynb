{
 "nbformat": 4,
 "nbformat_minor": 0,
 "metadata": {
  "colab": {
   "provenance": []
  },
  "kernelspec": {
   "name": "python3",
   "display_name": "Python 3"
  },
  "language_info": {
   "name": "python"
  }
 },
 "cells": [
  {
   "cell_type": "code",
   "execution_count": null,
   "metadata": {
    "id": "H5FB2wQSzH8d"
   },
   "outputs": [],
   "source": [
    "from tensorflow.keras.datasets.mnist import load_data\n",
    "\n",
    "\n",
    "train, test = load_data()\n",
    "x_train, y_train = train"
   ]
  },
  {
   "cell_type": "code",
   "source": [
    "type(x_train)"
   ],
   "metadata": {
    "id": "vpCLAebwzX7V"
   },
   "execution_count": null,
   "outputs": []
  },
  {
   "cell_type": "code",
   "source": [
    "x_train.shape # 60000 images de taile 28x28"
   ],
   "metadata": {
    "id": "hI8PmHjszdzZ"
   },
   "execution_count": null,
   "outputs": []
  },
  {
   "cell_type": "code",
   "source": [
    "import matplotlib.pyplot as plt\n",
    "\n",
    "plt.imshow(x_train[55], cmap=\"gray\")"
   ],
   "metadata": {
    "id": "J2HIQ1wxzjV1"
   },
   "execution_count": null,
   "outputs": []
  },
  {
   "cell_type": "code",
   "source": [
    "x_train = x_train.reshape(60000, 28**2) # chaque image devient un tableau 1D\n",
    "\n",
    "x_train.shape"
   ],
   "metadata": {
    "id": "j8RGXOpS0FS-"
   },
   "execution_count": null,
   "outputs": []
  },
  {
   "cell_type": "code",
   "source": [
    "from tensorflow.keras import Sequential\n",
    "from tensorflow.keras.layers import Input, Dense\n",
    "\n",
    "model = Sequential() #réseau de neurone vide\n",
    "model.add(Input([28*28]))\n",
    "model.add(Dense(200, activation=\"relu\")) # 200 neurones dans la première couche\n",
    "model.add(Dense(10, activation=\"softmax\")) # 10 neurones dans la dernière\n",
    "\n",
    "model.summary()\n",
    "\n"
   ],
   "metadata": {
    "id": "F7i6CkVlzqQw"
   },
   "execution_count": null,
   "outputs": []
  },
  {
   "cell_type": "code",
   "source": [
    "model.compile(loss=\"sparse_categorical_crossentropy\", optimizer=\"sgd\")"
   ],
   "metadata": {
    "id": "sLL8p-Bv0cqS"
   },
   "execution_count": null,
   "outputs": []
  },
  {
   "cell_type": "code",
   "source": [
    "model.fit(x_train, y_train, epochs=10) # le modèle ne progresse pas beaucoup"
   ],
   "metadata": {
    "id": "1a2nquEK0Oex"
   },
   "execution_count": null,
   "outputs": []
  },
  {
   "cell_type": "code",
   "source": [
    "x_train.min(), x_train.max()"
   ],
   "metadata": {
    "id": "vQRiB6jH2WN-"
   },
   "execution_count": null,
   "outputs": []
  },
  {
   "cell_type": "code",
   "source": [
    "# on min max scale les donnée -> ramner proche de 0\n",
    "\n",
    "x_train = (x_train.astype(\"float\") - 0.0 ) / (255.0 - 0.0)"
   ],
   "metadata": {
    "id": "R08CIl4J0amN"
   },
   "execution_count": null,
   "outputs": []
  },
  {
   "cell_type": "code",
   "source": [
    "x_train.min(), x_train.max()"
   ],
   "metadata": {
    "id": "82OaGBN12Nd7"
   },
   "execution_count": null,
   "outputs": []
  },
  {
   "cell_type": "code",
   "source": [
    "from tensorflow.keras import Sequential\n",
    "from tensorflow.keras.layers import Input, Dense\n",
    "\n",
    "model = Sequential() #réseau de neurone vide\n",
    "model.add(Input([28*28]))\n",
    "model.add(Dense(300, activation=\"relu\")) # 200 neurones dans la première couche\n",
    "model.add(Dense(10, activation=\"softmax\")) # 10 neurones dans la dernière -> 1 neuronne par classe ( ici 10 classe a analyser, des chiffres de 0 a 9 )\n",
    "\n",
    "model.summary()\n",
    "model.compile(loss=\"sparse_categorical_crossentropy\", optimizer=\"sgd\")\n"
   ],
   "metadata": {
    "id": "3UZua6WH0_O0"
   },
   "execution_count": null,
   "outputs": []
  },
  {
   "cell_type": "code",
   "source": [
    "model.fit(x_train, y_train, epochs=30) # le modèle ne progresse pas beaucoup"
   ],
   "metadata": {
    "id": "8CEsC7Cm1FgE"
   },
   "execution_count": null,
   "outputs": []
  },
  {
   "cell_type": "code",
   "source": [
    "# la loss (les erreurs diminues bien! )"
   ],
   "metadata": {
    "id": "ajsHxGGi1F34"
   },
   "execution_count": null,
   "outputs": []
  },
  {
   "cell_type": "code",
   "source": [
    "\n",
    "probas = model.predict(x_train[8:9])"
   ],
   "metadata": {
    "id": "B8f2Wefx1fDO"
   },
   "execution_count": null,
   "outputs": []
  },
  {
   "cell_type": "code",
   "source": [
    "probas"
   ],
   "metadata": {
    "id": "q6X5aPdS1jUX"
   },
   "execution_count": null,
   "outputs": []
  },
  {
   "cell_type": "code",
   "source": [
    "import numpy as np\n",
    "np.argmax(probas)"
   ],
   "metadata": {
    "id": "UC8SI3S33AXL"
   },
   "execution_count": null,
   "outputs": []
  },
  {
   "cell_type": "code",
   "source": [
    "plt.imshow(x_train[8].reshape(28,28), cmap=\"gray\")"
   ],
   "metadata": {
    "id": "uMA1Qnj21sc3"
   },
   "execution_count": null,
   "outputs": []
  },
  {
   "cell_type": "code",
   "source": [],
   "metadata": {
    "id": "mL1FVzLo1zoH"
   },
   "execution_count": null,
   "outputs": []
  }
 ]
}
